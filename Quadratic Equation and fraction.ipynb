{
  "nbformat": 4,
  "nbformat_minor": 5,
  "metadata": {
    "kernelspec": {
      "display_name": "Python 3",
      "language": "python",
      "name": "python3"
    },
    "language_info": {
      "codemirror_mode": {
        "name": "ipython",
        "version": 3
      },
      "file_extension": ".py",
      "mimetype": "text/x-python",
      "name": "python",
      "nbconvert_exporter": "python",
      "pygments_lexer": "ipython3",
      "version": "3.8.8"
    },
    "colab": {
      "name": "Mini_Projects_Ashwini_Wanve.ipynb",
      "provenance": [],
      "include_colab_link": true
    }
  },
  "cells": [
    {
      "cell_type": "markdown",
      "metadata": {
        "id": "view-in-github",
        "colab_type": "text"
      },
      "source": [
        "<a href=\"https://colab.research.google.com/github/fellic/Python-Practise/blob/main/Quadratic%20Equation%20and%20fraction.ipynb\" target=\"_parent\"><img src=\"https://colab.research.google.com/assets/colab-badge.svg\" alt=\"Open In Colab\"/></a>"
      ]
    },
    {
      "cell_type": "markdown",
      "metadata": {
        "id": "7dadb50f"
      },
      "source": [
        "# Python Program to Solve Quadratic Equation\n",
        "\n",
        "'''\n",
        "    This program computes roots of a quadratic equation when coefficients a, b and c are known. \n",
        "    The standard form of a quadratic equation is:\n",
        "    ax2 + bx + c = 0, where \n",
        "    a, b and c are real numbers and \n",
        "    a ≠ 0\n",
        "    Take a, b, c from the user,"
      ],
      "id": "7dadb50f"
    },
    {
      "cell_type": "code",
      "metadata": {
        "id": "d451ba6d"
      },
      "source": [
        "# import complex math module\n",
        "import cmath\n",
        "  \n",
        "\n",
        "try:\n",
        "        print(\"Input the equation in the following format\")\n",
        "        print('''ax2 + bx + c = 0 where a, b and c are real numbers and a ≠ 0''')\n",
        "        a=int(input(\"Enter Value of A: \"))\n",
        "        b=int(input(\"Enter Value of B: \"))\n",
        "        c=int(input(\"Enter Value of C: \"))\n",
        "        print(\"you have entered:\")\n",
        "        print(a,\"x\\u00b2\",\"+\",b,\"x\",\"+\",c,\"=0\")  # Ax² + Bx + C = 0\n",
        "  \n",
        "    # calculating  the discriminant\n",
        "        dis = (b**2) - (4 * a*c)\n",
        "  \n",
        "    # find two results\n",
        "        root1 = ((-b) - cmath.sqrt(dis))/(2 * a)\n",
        "        root2 = ((-b) + cmath.sqrt(dis))/(2 * a)\n",
        "\n",
        "    # printing the results\n",
        "        print('The roots are')\n",
        "        print(root1,\" and \",root2)\n",
        "        \n",
        "    \n",
        "except:\n",
        "    print(\"Enter Non Zero value\")\n",
        "    "
      ],
      "id": "d451ba6d",
      "execution_count": null,
      "outputs": []
    },
    {
      "cell_type": "markdown",
      "metadata": {
        "id": "7afd7abd"
      },
      "source": [
        " # Fraction Problem\n",
        "\"\"\"\n",
        "Sometime in a real life math question, you would require to display answer as a fraction, not as float number\n",
        "Write a program here to take 2 numbers from user and display answers both in float and fraction. ALso show their types\n",
        "\n",
        "example : 10 / 3 :\n",
        "float answer = 3.33\n",
        "fraction answer = 10 / 3\n",
        "\n",
        "Perform 2 Math operations on both of them, ie,\n",
        "Multiply float answer and fraction answer by 10\n",
        "Divide float answer and fraction answer by 10"
      ],
      "id": "7afd7abd"
    },
    {
      "cell_type": "code",
      "metadata": {
        "id": "bc64c2e9",
        "outputId": "c3c6fb31-2f21-42bb-b6e8-59b625756280"
      },
      "source": [
        "from fractions import Fraction\n",
        "import math\n",
        "\n",
        "try:\n",
        "    print(\"Enter numbers to calculate fraction e.g. A/B\")\n",
        "    a=int(input(\"Enter number A :\"))\n",
        "    b=int(input(\"Enter number B :\"))\n",
        "    fraction1=Fraction(a, b)\n",
        "    print(\"fraction:\" ,fraction1)\n",
        "    float_answer=a/b\n",
        "    print( \"float answer\",format(float_answer,'.2f'))\n",
        "    \n",
        "    #Multiply float answer and fraction answer by 10\n",
        "    calculation_by_float_answer=float_answer*10\n",
        "    calculation_by_fraction1=fraction1*10\n",
        "    print(\"multiplication by using fraction\",calculation_by_fraction1)\n",
        "    print(\"multiplication by using Float\",calculation_by_float_answer)\n",
        "    \n",
        "    #Divide float answer and fraction answer by 10\n",
        "    division_by_float_answer=float_answer/10\n",
        "    division_by_fraction1=fraction1/10\n",
        "    print(\"division by using fraction\",division_by_fraction1)\n",
        "    print(\"division by using Float\",division_by_float_answer)\n",
        "    \n",
        "    \n",
        "except:\n",
        "    print(\"Denominator of a fraction should not be zero\")"
      ],
      "id": "bc64c2e9",
      "execution_count": null,
      "outputs": [
        {
          "name": "stdout",
          "output_type": "stream",
          "text": [
            "Enter numbers to calculate fraction e.g. A/B\n",
            "Enter number A :1\n",
            "Enter number B :0\n",
            "Denominator of a fraction should not be zero\n"
          ]
        }
      ]
    },
    {
      "cell_type": "code",
      "metadata": {
        "id": "0a090068"
      },
      "source": [
        ""
      ],
      "id": "0a090068",
      "execution_count": null,
      "outputs": []
    },
    {
      "cell_type": "code",
      "metadata": {
        "id": "62ad866c"
      },
      "source": [
        ""
      ],
      "id": "62ad866c",
      "execution_count": null,
      "outputs": []
    }
  ]
}